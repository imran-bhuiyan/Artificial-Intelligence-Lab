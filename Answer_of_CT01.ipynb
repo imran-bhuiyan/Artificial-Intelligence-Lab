{
  "nbformat": 4,
  "nbformat_minor": 0,
  "metadata": {
    "colab": {
      "provenance": [],
      "include_colab_link": true
    },
    "kernelspec": {
      "name": "python3",
      "display_name": "Python 3"
    },
    "language_info": {
      "name": "python"
    }
  },
  "cells": [
    {
      "cell_type": "markdown",
      "metadata": {
        "id": "view-in-github",
        "colab_type": "text"
      },
      "source": [
        "<a href=\"https://colab.research.google.com/github/imran-bhuiyan/Python_AI_lab/blob/Class-Test/Answer_of_CT01.ipynb\" target=\"_parent\"><img src=\"https://colab.research.google.com/assets/colab-badge.svg\" alt=\"Open In Colab\"/></a>"
      ]
    },
    {
      "cell_type": "markdown",
      "source": [
        "# Problem 1\n",
        "You are given a list of integers and q queries. Each query consists of two index i and j. You need to print out the average between i and j for each query.\n",
        "\n",
        "---\n",
        "**Input**\n",
        "\n",
        "5 4 3 8 1\n",
        "\n",
        "3\n",
        "\n",
        "0 2\n",
        "\n",
        "1 3\n",
        "\n",
        "0 4\n",
        "\n",
        "---\n",
        "**Output**\n",
        "\n",
        "3.0\n",
        "\n",
        "5.0\n",
        "\n",
        "4.2\n"
      ],
      "metadata": {
        "id": "L5PhCSHHGkAQ"
      }
    },
    {
      "cell_type": "code",
      "source": [
        "arr = list(map(int, input().split()))\n",
        "q = int(input())\n",
        "for _ in range(q):\n",
        "  i, j = tuple(map(int, input().split()))\n",
        "  #Code here\n",
        "  add = 0\n",
        "  while i < j:\n",
        "    len = j-i+1;\n",
        "    add = sum(add+arr[i])\n",
        "    i += 1\n",
        "  len = j-i+1;\n",
        "  print(add/len);\n",
        "\n",
        "  ###\n"
      ],
      "metadata": {
        "colab": {
          "base_uri": "https://localhost:8080/",
          "height": 263
        },
        "collapsed": true,
        "id": "Dy22lgybHZ13",
        "outputId": "8f0ed0a5-757d-4741-9d35-775857a025b6"
      },
      "execution_count": null,
      "outputs": [
        {
          "name": "stdout",
          "output_type": "stream",
          "text": [
            "5 4 3 8 1\n",
            "3\n",
            "0 2\n"
          ]
        },
        {
          "output_type": "error",
          "ename": "TypeError",
          "evalue": "'int' object is not callable",
          "traceback": [
            "\u001b[0;31m---------------------------------------------------------------------------\u001b[0m",
            "\u001b[0;31mTypeError\u001b[0m                                 Traceback (most recent call last)",
            "\u001b[0;32m<ipython-input-11-c776d1905872>\u001b[0m in \u001b[0;36m<cell line: 3>\u001b[0;34m()\u001b[0m\n\u001b[1;32m      7\u001b[0m   \u001b[0;32mwhile\u001b[0m \u001b[0mi\u001b[0m \u001b[0;34m<\u001b[0m \u001b[0mj\u001b[0m\u001b[0;34m:\u001b[0m\u001b[0;34m\u001b[0m\u001b[0;34m\u001b[0m\u001b[0m\n\u001b[1;32m      8\u001b[0m     \u001b[0mlen\u001b[0m \u001b[0;34m=\u001b[0m \u001b[0mj\u001b[0m\u001b[0;34m-\u001b[0m\u001b[0mi\u001b[0m\u001b[0;34m+\u001b[0m\u001b[0;36m1\u001b[0m\u001b[0;34m;\u001b[0m\u001b[0;34m\u001b[0m\u001b[0;34m\u001b[0m\u001b[0m\n\u001b[0;32m----> 9\u001b[0;31m     \u001b[0madd\u001b[0m \u001b[0;34m=\u001b[0m \u001b[0msum\u001b[0m\u001b[0;34m(\u001b[0m\u001b[0madd\u001b[0m\u001b[0;34m+\u001b[0m\u001b[0marr\u001b[0m\u001b[0;34m[\u001b[0m\u001b[0mi\u001b[0m\u001b[0;34m]\u001b[0m\u001b[0;34m)\u001b[0m\u001b[0;34m\u001b[0m\u001b[0;34m\u001b[0m\u001b[0m\n\u001b[0m\u001b[1;32m     10\u001b[0m     \u001b[0mi\u001b[0m \u001b[0;34m+=\u001b[0m \u001b[0;36m1\u001b[0m\u001b[0;34m\u001b[0m\u001b[0;34m\u001b[0m\u001b[0m\n\u001b[1;32m     11\u001b[0m   \u001b[0mlen\u001b[0m \u001b[0;34m=\u001b[0m \u001b[0mj\u001b[0m\u001b[0;34m-\u001b[0m\u001b[0mi\u001b[0m\u001b[0;34m+\u001b[0m\u001b[0;36m1\u001b[0m\u001b[0;34m;\u001b[0m\u001b[0;34m\u001b[0m\u001b[0;34m\u001b[0m\u001b[0m\n",
            "\u001b[0;31mTypeError\u001b[0m: 'int' object is not callable"
          ]
        }
      ]
    },
    {
      "cell_type": "markdown",
      "source": [
        "# Problem 2\n",
        "You are given 2 strings a and b. You have print out a new string by interleaving a and b.\n",
        "\n",
        "\n",
        "---\n",
        "**Input**\n",
        "\n",
        "aab\n",
        "\n",
        "ceecc\n",
        "\n",
        "\n",
        "---\n",
        "**Output**\n",
        "\n",
        "acaebecc\n",
        "\n",
        "---\n",
        "**Input**\n",
        "\n",
        "ABBA\n",
        "\n",
        "CD\n",
        "\n",
        "---\n",
        "**Output**\n",
        "\n",
        "ACBDBA"
      ],
      "metadata": {
        "id": "d9WWsi2xHtx4"
      }
    },
    {
      "cell_type": "code",
      "source": [
        "a = input()\n",
        "b = input()\n",
        "new = \"\"\n",
        "#Code here\n",
        "while a or b:\n",
        "  if a:\n",
        "    new += a[0]\n",
        "    a = a[1:]\n",
        "  if b:\n",
        "    new += b[0]\n",
        "    b = b[1:]\n",
        "###\n",
        "print(new)\n"
      ],
      "metadata": {
        "id": "0FQCFmlJjzMD"
      },
      "execution_count": null,
      "outputs": []
    },
    {
      "cell_type": "markdown",
      "source": [
        "# Problem 3\n",
        "\n",
        "Print whether a given number is prime or not.\n",
        "\n",
        "---\n",
        "**Input**\n",
        "\n",
        "7\n",
        "\n",
        "---\n",
        "**Ouput**\n",
        "\n",
        "Prime\n",
        "\n",
        "---\n",
        "**Input**\n",
        "\n",
        "8\n",
        "\n",
        "---\n",
        "**Output**\n",
        "\n",
        "Not prime\n",
        "\n",
        "\n",
        "\n"
      ],
      "metadata": {
        "id": "v_DBtFX4FxN_"
      }
    },
    {
      "cell_type": "code",
      "source": [
        "import math\n",
        "\n",
        "def checkPrime(n):\n",
        "  ##Code here\n",
        "  if n < 2:\n",
        "    return False\n",
        "  for i in range(2, int(math.sqrt(n)) + 1):\n",
        "    if n % i == 0:\n",
        "      return False\n",
        "  return True\n",
        "\n",
        "n = int(input())\n",
        "if checkPrime(n):\n",
        "  print(\"Prime\")\n",
        "else:\n",
        "  print(\"Not prime\")\n"
      ],
      "metadata": {
        "id": "NlLn_0ufGSSQ"
      },
      "execution_count": null,
      "outputs": []
    }
  ]
}