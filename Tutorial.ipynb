{
  "nbformat": 4,
  "nbformat_minor": 0,
  "metadata": {
    "colab": {
      "provenance": []
    },
    "kernelspec": {
      "name": "python3",
      "display_name": "Python 3"
    },
    "language_info": {
      "name": "python"
    }
  },
  "cells": [
    {
      "cell_type": "code",
      "execution_count": null,
      "metadata": {
        "id": "BQfiLO9KCi3o"
      },
      "outputs": [],
      "source": [
        "# Declaration happens automatically when you assign a value to a variable"
      ]
    },
    {
      "cell_type": "code",
      "source": [
        "a = 5\n",
        "print(type(a))"
      ],
      "metadata": {
        "colab": {
          "base_uri": "https://localhost:8080/"
        },
        "id": "O7FlD0xuFkNF",
        "outputId": "af78cb40-3fc1-4dea-ad28-ce64bfb89b8c"
      },
      "execution_count": null,
      "outputs": [
        {
          "output_type": "stream",
          "name": "stdout",
          "text": [
            "<class 'int'>\n"
          ]
        }
      ]
    },
    {
      "cell_type": "code",
      "source": [
        "a = 5.5\n",
        "print(type(a))"
      ],
      "metadata": {
        "colab": {
          "base_uri": "https://localhost:8080/"
        },
        "id": "CSRRIQlxF7Wq",
        "outputId": "53ff15f8-8653-489a-e30d-b6336fde2690"
      },
      "execution_count": null,
      "outputs": [
        {
          "output_type": "stream",
          "name": "stdout",
          "text": [
            "<class 'float'>\n"
          ]
        }
      ]
    },
    {
      "cell_type": "code",
      "source": [
        "a = \"Imran\"\n",
        "print(type(a))"
      ],
      "metadata": {
        "colab": {
          "base_uri": "https://localhost:8080/"
        },
        "id": "v_6RPTz5GMBq",
        "outputId": "d28be1a4-2335-402c-fcc5-6565680ad944"
      },
      "execution_count": null,
      "outputs": [
        {
          "output_type": "stream",
          "name": "stdout",
          "text": [
            "<class 'str'>\n"
          ]
        }
      ]
    },
    {
      "cell_type": "code",
      "source": [
        "# Tripple quatation is for including lines in the string\n",
        "a = \"\"\"\"My Name is\n",
        "Imran\"\"\"\n",
        "print(a)\n",
        "print(type(a))"
      ],
      "metadata": {
        "colab": {
          "base_uri": "https://localhost:8080/"
        },
        "id": "D25izAlbGZrf",
        "outputId": "6c23be79-4a19-4ba6-ed05-a647e028709a"
      },
      "execution_count": null,
      "outputs": [
        {
          "output_type": "stream",
          "name": "stdout",
          "text": [
            "\"My Name is \n",
            "Imran\n",
            "<class 'str'>\n"
          ]
        }
      ]
    },
    {
      "cell_type": "code",
      "source": [
        "#print\n",
        "a = 5\n",
        "b = \"hello\"\n",
        "print(a,b)\n",
        "print(f\"I want {a} apple \") #string formatting"
      ],
      "metadata": {
        "colab": {
          "base_uri": "https://localhost:8080/"
        },
        "id": "cF3BJPSeHFFm",
        "outputId": "91926bc5-010e-45d0-e858-07c3944893bb"
      },
      "execution_count": null,
      "outputs": [
        {
          "output_type": "stream",
          "name": "stdout",
          "text": [
            "5 hello\n",
            "I want 5 apple \n"
          ]
        }
      ]
    },
    {
      "cell_type": "code",
      "source": [
        "# printing 2 decimal points\n",
        "a = 1/3\n",
        "print(\"%.2f\"%a)"
      ],
      "metadata": {
        "colab": {
          "base_uri": "https://localhost:8080/"
        },
        "id": "w7YZ1kLwHfjN",
        "outputId": "a059d127-2929-4d56-8252-a75b6e31029f"
      },
      "execution_count": null,
      "outputs": [
        {
          "output_type": "stream",
          "name": "stdout",
          "text": [
            "0.33\n"
          ]
        }
      ]
    },
    {
      "cell_type": "code",
      "source": [
        "#Basic Arithmetic\n",
        "a = 3.4\n",
        "b = 2.8\n",
        "print(a+b)\n",
        "print(a-b)\n",
        "print(a*b)\n",
        "print(a/b)\n",
        "print(a//b)\n",
        "#square a number ( Pow function in c)\n",
        "print(a**2)\n"
      ],
      "metadata": {
        "colab": {
          "base_uri": "https://localhost:8080/"
        },
        "id": "_8jvReRuJHQy",
        "outputId": "7696bc48-746e-48ee-8e8a-1666b329af15"
      },
      "execution_count": null,
      "outputs": [
        {
          "output_type": "stream",
          "name": "stdout",
          "text": [
            "6.199999999999999\n",
            "0.6000000000000001\n",
            "9.52\n",
            "1.2142857142857144\n",
            "1.0\n",
            "11.559999999999999\n"
          ]
        }
      ]
    },
    {
      "cell_type": "code",
      "source": [
        "#String Operations\n",
        "s = \"Hello\"\n",
        "t = \"World\"\n",
        "print(s + \" \"+  t)\n",
        "w = s*5\n",
        "print(w)"
      ],
      "metadata": {
        "colab": {
          "base_uri": "https://localhost:8080/"
        },
        "id": "-OztD3viJdKi",
        "outputId": "5a5e6f26-78e5-40e4-af54-bea0c1671fa0"
      },
      "execution_count": null,
      "outputs": [
        {
          "output_type": "stream",
          "name": "stdout",
          "text": [
            "HelloWorld\n",
            "HelloHelloHelloHelloHello\n"
          ]
        }
      ]
    },
    {
      "cell_type": "code",
      "source": [
        "#Indexing\n",
        "print(w[0])\n",
        "print(len(w)) #Length\n"
      ],
      "metadata": {
        "colab": {
          "base_uri": "https://localhost:8080/"
        },
        "id": "_e69nObWKN27",
        "outputId": "30b1a19a-5ebf-4c30-e02e-1b7c7de3d391"
      },
      "execution_count": null,
      "outputs": [
        {
          "output_type": "stream",
          "name": "stdout",
          "text": [
            "H\n",
            "25\n"
          ]
        }
      ]
    },
    {
      "cell_type": "code",
      "source": [
        "# t = HelloWorld\n",
        "# Hwd - Subsequence\n",
        "# Wor - Substring\n",
        "# String Slicing\n",
        "# t[5:8]\n",
        "# t[starting index of the slice : Ending index of the slice: Step size]\n",
        "t = \"helloworld\"\n",
        "print(t[1:6:2])\n",
        "print(t[8:5:-1])"
      ],
      "metadata": {
        "colab": {
          "base_uri": "https://localhost:8080/"
        },
        "id": "VQIKjOWVK7jy",
        "outputId": "4f65d687-dceb-44ba-d24c-cf665ba00943"
      },
      "execution_count": null,
      "outputs": [
        {
          "output_type": "stream",
          "name": "stdout",
          "text": [
            "elw\n",
            "lro\n"
          ]
        }
      ]
    },
    {
      "cell_type": "code",
      "source": [
        "w = \"apple\"\n",
        "print(w[-1::-1])\n"
      ],
      "metadata": {
        "colab": {
          "base_uri": "https://localhost:8080/"
        },
        "id": "0DX-MCcjPaLh",
        "outputId": "6ea14525-97b3-4d00-ef7d-792f90a13119"
      },
      "execution_count": null,
      "outputs": [
        {
          "output_type": "stream",
          "name": "stdout",
          "text": [
            "elppa\n"
          ]
        }
      ]
    },
    {
      "cell_type": "code",
      "source": [
        "#TypeCast\n",
        "a = 5.5\n",
        "print(int(a))\n",
        "b = 5\n",
        "print(float(b))\n",
        "a = \"5\"\n",
        "b = 6\n",
        "#print(a+b) # can only concatenate str (not \"int\") to str\n",
        "print(a+str(b))\n",
        "print(int(a)+b)\n",
        "#we can't type cast here a=\"apple\" this can't be type casted to integer\n"
      ],
      "metadata": {
        "colab": {
          "base_uri": "https://localhost:8080/"
        },
        "id": "jKIrdKo1QkM8",
        "outputId": "d4d946e6-5c04-46e1-976b-8c24af6b4a04"
      },
      "execution_count": null,
      "outputs": [
        {
          "output_type": "stream",
          "name": "stdout",
          "text": [
            "5\n",
            "5.0\n",
            "56\n",
            "11\n"
          ]
        }
      ]
    },
    {
      "cell_type": "code",
      "source": [
        "name = input()\n",
        "print(name)"
      ],
      "metadata": {
        "colab": {
          "base_uri": "https://localhost:8080/"
        },
        "id": "w3XGHZt5R-SL",
        "outputId": "02cbb0ac-c01f-49af-c552-ceda5ae9e196"
      },
      "execution_count": null,
      "outputs": [
        {
          "output_type": "stream",
          "name": "stdout",
          "text": [
            "imran\n",
            "imran\n"
          ]
        }
      ]
    },
    {
      "cell_type": "code",
      "source": [
        "num =int(input())\n",
        "print(num+4)"
      ],
      "metadata": {
        "colab": {
          "base_uri": "https://localhost:8080/",
          "height": 176
        },
        "id": "w-paQCi4TPKv",
        "outputId": "124de19c-c877-4c99-b39c-24e2583eb2f8"
      },
      "execution_count": null,
      "outputs": [
        {
          "name": "stdout",
          "output_type": "stream",
          "text": [
            "name\n"
          ]
        },
        {
          "output_type": "error",
          "ename": "ValueError",
          "evalue": "invalid literal for int() with base 10: 'name'",
          "traceback": [
            "\u001b[0;31m---------------------------------------------------------------------------\u001b[0m",
            "\u001b[0;31mValueError\u001b[0m                                Traceback (most recent call last)",
            "\u001b[0;32m<ipython-input-54-55c460086317>\u001b[0m in \u001b[0;36m<cell line: 1>\u001b[0;34m()\u001b[0m\n\u001b[0;32m----> 1\u001b[0;31m \u001b[0mnum\u001b[0m \u001b[0;34m=\u001b[0m\u001b[0mint\u001b[0m\u001b[0;34m(\u001b[0m\u001b[0minput\u001b[0m\u001b[0;34m(\u001b[0m\u001b[0;34m)\u001b[0m\u001b[0;34m)\u001b[0m\u001b[0;34m\u001b[0m\u001b[0;34m\u001b[0m\u001b[0m\n\u001b[0m\u001b[1;32m      2\u001b[0m \u001b[0mprint\u001b[0m\u001b[0;34m(\u001b[0m\u001b[0mnum\u001b[0m\u001b[0;34m+\u001b[0m\u001b[0;36m4\u001b[0m\u001b[0;34m)\u001b[0m\u001b[0;34m\u001b[0m\u001b[0;34m\u001b[0m\u001b[0m\n",
            "\u001b[0;31mValueError\u001b[0m: invalid literal for int() with base 10: 'name'"
          ]
        }
      ]
    },
    {
      "cell_type": "code",
      "source": [
        "#Conditional\n",
        "if 3 < 5:\n",
        "  print(\"here\")\n",
        "else:\n",
        "  print(\"there\")"
      ],
      "metadata": {
        "colab": {
          "base_uri": "https://localhost:8080/"
        },
        "id": "c2pZL2RZT5mM",
        "outputId": "39ecb466-18c6-4c1c-ff19-9c1e43cd59e1"
      },
      "execution_count": null,
      "outputs": [
        {
          "output_type": "stream",
          "name": "stdout",
          "text": [
            "here\n"
          ]
        }
      ]
    },
    {
      "cell_type": "code",
      "source": [
        "if 3 > 5:\n",
        "  pass\n",
        "elif 3 < 5:\n",
        "  print(\"here\")\n",
        "else:\n",
        "  pass\n",
        "# if else chain"
      ],
      "metadata": {
        "colab": {
          "base_uri": "https://localhost:8080/"
        },
        "id": "vWVxOXehU6EM",
        "outputId": "d5dfd98c-a15d-4926-9f58-9a6790339640"
      },
      "execution_count": null,
      "outputs": [
        {
          "output_type": "stream",
          "name": "stdout",
          "text": [
            "here\n"
          ]
        }
      ]
    },
    {
      "cell_type": "code",
      "source": [
        "for i in range (100, 49, -2):\n",
        "  print(i)"
      ],
      "metadata": {
        "colab": {
          "base_uri": "https://localhost:8080/"
        },
        "id": "_0D7DcktVkZc",
        "outputId": "d94afbe3-67a8-465d-e9c0-a3878e81a162"
      },
      "execution_count": null,
      "outputs": [
        {
          "output_type": "stream",
          "name": "stdout",
          "text": [
            "100\n",
            "98\n",
            "96\n",
            "94\n",
            "92\n",
            "90\n",
            "88\n",
            "86\n",
            "84\n",
            "82\n",
            "80\n",
            "78\n",
            "76\n",
            "74\n",
            "72\n",
            "70\n",
            "68\n",
            "66\n",
            "64\n",
            "62\n",
            "60\n",
            "58\n",
            "56\n",
            "54\n",
            "52\n",
            "50\n"
          ]
        }
      ]
    },
    {
      "cell_type": "code",
      "source": [
        "#In some cases we can't use for loop. So, we use while loop\n",
        "n = 1729\n",
        "cnt = 0\n",
        "while n!=0:\n",
        "  n//=10\n",
        "  cnt+=1\n",
        "print(cnt)"
      ],
      "metadata": {
        "colab": {
          "base_uri": "https://localhost:8080/"
        },
        "id": "uW0F0vMTWPG9",
        "outputId": "1c2368b3-d393-451d-80d2-2a343f1b7f77"
      },
      "execution_count": null,
      "outputs": [
        {
          "output_type": "stream",
          "name": "stdout",
          "text": [
            "4\n"
          ]
        }
      ]
    },
    {
      "cell_type": "code",
      "source": [
        "#code forces\n",
        "#leet code"
      ],
      "metadata": {
        "id": "W2BqWtt6YBBk"
      },
      "execution_count": null,
      "outputs": []
    }
  ]
}